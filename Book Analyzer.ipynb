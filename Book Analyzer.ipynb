{
 "cells": [
  {
   "cell_type": "markdown",
   "id": "c2284b1c",
   "metadata": {},
   "source": [
    "# Program"
   ]
  },
  {
   "cell_type": "code",
   "execution_count": null,
   "id": "5cb3fb3a",
   "metadata": {},
   "outputs": [],
   "source": [
    "with open('book_analyzer.in', 'r') as txt:\n",
    "    data = txt.readlines()\n",
    "    txt.close()\n",
    "\n",
    "def BookAnalyzer(target_size):\n",
    "    \n",
    "    #Initialize hashmaps\n",
    "    market_log = {}\n",
    "    prices = {'B':[], 'S':[]}\n",
    "\n",
    "    for line in data:\n",
    "\n",
    "        #Convert string to list of strings and store variables\n",
    "        log = line.split()\n",
    "        order_id = log[2]\n",
    "        size = int(log[-1])\n",
    "        size_check = target_size\n",
    "\n",
    "        #Populate hashmaps if 'A'\n",
    "        if log[1] == 'A':\n",
    "            side = log[3]\n",
    "            price = float(log[4])\n",
    "            market_log[order_id] = [side] + [price] + [size]\n",
    "            prices[side].append(price)\n",
    "            orders = [order[-1] for order in market_log.values() if order[0] == side]\n",
    "\n",
    "        #Depopulate hashmaps if 'R'\n",
    "        else:\n",
    "            side = market_log[order_id][0]\n",
    "            market_log[order_id][-1] -= size\n",
    "            orders = [order[-1] for order in market_log.values() if order[0] == market_log[order_id][0]]\n",
    "\n",
    "            #Remove log if amount hits 0\n",
    "            if market_log[order_id][-1] == 0:\n",
    "                prices[market_log[order_id][0]].remove(market_log[order_id][1])\n",
    "                del market_log[order_id]                \n",
    "\n",
    "        #No output until orders reach target size\n",
    "        if sum(orders) < size_check:\n",
    "            pass\n",
    "\n",
    "        #Output if orders reach target size\n",
    "        else:\n",
    "            total = 0\n",
    "            orders_used = []\n",
    "\n",
    "            #Buy output\n",
    "            if side == 'S':\n",
    "                while size_check > 0:\n",
    "\n",
    "                    #Isolate asks\n",
    "                    sell = {k:v for k,v in market_log.items() if ((k not in orders_used) & (side in v))}\n",
    "                    sell = {k:v for k,v in sell.items() if (v[-2]==min(v[1] for v in list(sell.values())))}\n",
    "                    sell = {min(sell, key=sell.get): sell[min(sell, key=sell.get)]}\n",
    "                    orders_used.append(list(sell.keys())[0])\n",
    "                    total += sum([v[-2]*min(v[-1],size_check) for v in sell.values()])\n",
    "                    size_check -= sum([v[-1] for v in sell.values()])\n",
    "                print('{} {} {}'.format(log[0], 'B', total))\n",
    "\n",
    "            #Sell output\n",
    "            else:\n",
    "                while size_check > 0:\n",
    "                    buy = {k:v for k,v in market_log.items() if ((k not in orders_used) & (side in v))}\n",
    "                    buy = {k:v for k,v in buy.items() if (v[-2]==max(v[1] for v in list(buy.values())))}\n",
    "                    buy = {max(buy, key=buy.get): buy[max(buy, key=buy.get)]}\n",
    "                    orders_used.append(list(buy.keys())[0])\n",
    "                    total += sum([v[-2]*min(v[-1],size_check) for v in buy.values()])\n",
    "                    size_check -= sum([v[-1] for v in buy.values()])\n",
    "                print('{} {} {}'.format(log[0], 'S', total))"
   ]
  },
  {
   "cell_type": "markdown",
   "id": "aa3c00a0",
   "metadata": {},
   "source": [
    "# How did you choose your implementation language?"
   ]
  },
  {
   "cell_type": "markdown",
   "id": "4d113c33",
   "metadata": {},
   "source": [
    "I chose Python because it is the software language I feel most confident in. I also don't think this could be possible in SQL (maybe R), but I could be wrong."
   ]
  },
  {
   "cell_type": "markdown",
   "id": "20a7035a",
   "metadata": {},
   "source": [
    "# How did you arrive at your final implementation? Were there other approaches that you considered or tried first?"
   ]
  },
  {
   "cell_type": "markdown",
   "id": "a09dfb58",
   "metadata": {},
   "source": [
    "From the beginning, I knew that I would have to utilize dictionaries. However, I did not store my variables initially, which left the code unreadable. Even after storing the variables, I still think improvements could be made to readability."
   ]
  },
  {
   "cell_type": "markdown",
   "id": "0f08fabf",
   "metadata": {},
   "source": [
    "# How does your implementation scale with respect to the target size?"
   ]
  },
  {
   "cell_type": "markdown",
   "id": "63140f9c",
   "metadata": {},
   "source": [
    "I'm confident that my implementation scales well with target size. I do not believe target size will be the limiting factor (except for unreasonably large numbers)"
   ]
  },
  {
   "cell_type": "markdown",
   "id": "1922d1b3",
   "metadata": {},
   "source": [
    "# How does your implementation scale with respect to the number of orders in the book?"
   ]
  },
  {
   "cell_type": "markdown",
   "id": "869cc151",
   "metadata": {},
   "source": [
    "The number of orders in a book would be the limiting factor with my implementation. Using Python, I was able to read in the entire log file (of which there are more than 1M entires), but the output began to slow down my computer before I interrupted the program. Therefore, it is not exactly the number of orders in the book that directly affects the program, but the extreme number of lines in the resulting output."
   ]
  },
  {
   "cell_type": "markdown",
   "id": "4abc60e1",
   "metadata": {},
   "source": [
    "# Additional Notes"
   ]
  },
  {
   "cell_type": "markdown",
   "id": "b79658f0",
   "metadata": {},
   "source": [
    "There are a few key differences between my output and the sample output.\n",
    "\n",
    "> 1. My output did not include any \"NA\" outputs. Instead, if the order size did not meet the target size requirement, my program simply skipped the row and moved on to the next.\n",
    "> 2. My output would not skip rows in which multiple logs occurred within the same milliseconds. As a result, if timestamp \"x\" had 2 actions occur at the same time, my output would have a separate, duplicate row for each timestamp row."
   ]
  }
 ],
 "metadata": {
  "kernelspec": {
   "display_name": "Python 3 (ipykernel)",
   "language": "python",
   "name": "python3"
  },
  "language_info": {
   "codemirror_mode": {
    "name": "ipython",
    "version": 3
   },
   "file_extension": ".py",
   "mimetype": "text/x-python",
   "name": "python",
   "nbconvert_exporter": "python",
   "pygments_lexer": "ipython3",
   "version": "3.8.8"
  }
 },
 "nbformat": 4,
 "nbformat_minor": 5
}
